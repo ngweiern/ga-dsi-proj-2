{
 "cells": [
  {
   "cell_type": "markdown",
   "metadata": {},
   "source": [
    "## Import libraries"
   ]
  },
  {
   "cell_type": "code",
   "execution_count": 1,
   "metadata": {},
   "outputs": [],
   "source": [
    "import pandas as pd\n",
    "import numpy as np\n",
    "import seaborn as sns\n",
    "import matplotlib.pyplot as plt\n",
    "\n",
    "%matplotlib inline\n",
    "\n",
    "import sklearn\n",
    "import sklearn.metrics as metrics\n",
    "\n",
    "from sklearn.linear_model import LinearRegression, Ridge, Lasso, ElasticNet, RidgeCV, LassoCV, ElasticNetCV\n",
    "from sklearn.metrics import mean_squared_error, r2_score\n",
    "from sklearn.model_selection import train_test_split, cross_val_score, KFold\n",
    "from sklearn.preprocessing import StandardScaler, PolynomialFeatures, LabelEncoder\n",
    "from sklearn.feature_selection import f_classif, SelectKBest\n",
    "\n",
    "import warnings\n",
    "warnings.filterwarnings('ignore')"
   ]
  },
  {
   "cell_type": "markdown",
   "metadata": {},
   "source": [
    "## Read Data"
   ]
  },
  {
   "cell_type": "code",
   "execution_count": 2,
   "metadata": {},
   "outputs": [],
   "source": [
    "train_cleaned = pd.read_csv('../data/train_cleaned.csv', index_col='Id')\n",
    "test_cleaned = pd.read_csv('../data/test_cleaned.csv', index_col='Id')"
   ]
  },
  {
   "cell_type": "code",
   "execution_count": 3,
   "metadata": {},
   "outputs": [],
   "source": [
    "discrete_features = ['Year Built', 'Year Remod/Add', 'Bsmt Full Bath', 'Bsmt Half Bath', 'Full Bath', 'Half Bath',\n",
    "           'Bedroom AbvGr', 'Kitchen AbvGr', 'TotRms AbvGrd', 'Fireplaces', 'Garage Yr Blt', 'Garage Cars',\n",
    "            'Mo Sold', 'Yr Sold']\n",
    "\n",
    "continuous_features = ['Lot Frontage', 'Lot Area', 'Mas Vnr Area', 'BsmtFin SF 1', 'BsmtFin SF 2',\n",
    "                       'Bsmt Unf SF', 'Total Bsmt SF', '1st Flr SF', '2nd Flr SF', 'Low Qual Fin SF',\n",
    "                       'Gr Liv Area', 'Garage Area', 'Wood Deck SF', 'Open Porch SF', 'Enclosed Porch',\n",
    "                       '3Ssn Porch', 'Screen Porch', 'Pool Area', 'Misc Val']\n",
    "\n",
    "nominal_features = ['PID', 'MS SubClass', 'MS Zoning', 'Street', 'Alley', 'Land Contour', 'Lot Config',\n",
    "                    'Neighborhood', 'Condition 1', 'Condition 2', 'Bldg Type', 'House Style', 'Roof Style',\n",
    "                    'Roof Matl', 'Exterior 1st', 'Exterior 2nd', 'Mas Vnr Type', 'Foundation', 'Heating',\n",
    "                    'Central Air', 'Garage Type', 'Misc Feature', 'Sale Type']\n",
    "\n",
    "ordinal_features = ['Lot Shape', 'Utilities', 'Land Slope', 'Overall Qual', 'Overall Cond', 'Exter Qual',\n",
    "                    'Exter Cond', 'Bsmt Qual', 'Bsmt Cond', 'Bsmt Exposure', 'BsmtFin Type 1', 'BsmtFin Type 2',\n",
    "                    'Heating QC', 'Electrical', 'Kitchen Qual', 'Functional', 'Fireplace Qu', 'Garage Finish',\n",
    "                    'Garage Qual', 'Garage Cond', 'Paved Drive', 'Pool QC', 'Fence'\n",
    "                   ]"
   ]
  },
  {
   "cell_type": "markdown",
   "metadata": {},
   "source": [
    "## Baseline Regression Model"
   ]
  },
  {
   "cell_type": "code",
   "execution_count": 4,
   "metadata": {},
   "outputs": [],
   "source": [
    "# Train data\n",
    "\n",
    "X_train = train_cleaned.drop(['SalePrice', 'PID'], axis=1).copy()\n",
    "y_train = train_cleaned[['SalePrice']].copy()\n",
    "\n",
    "# Test data\n",
    "\n",
    "X_test = test_cleaned.drop(['PID'], axis=1).copy()"
   ]
  },
  {
   "cell_type": "code",
   "execution_count": 5,
   "metadata": {},
   "outputs": [
    {
     "data": {
      "text/plain": [
       "Index(['MS SubClass', 'MS Zoning', 'Lot Frontage', 'Lot Area', 'Street',\n",
       "       'Alley', 'Lot Shape', 'Land Contour', 'Utilities', 'Lot Config',\n",
       "       'Land Slope', 'Neighborhood', 'Condition 1', 'Condition 2', 'Bldg Type',\n",
       "       'House Style', 'Overall Qual', 'Overall Cond', 'Year Built',\n",
       "       'Year Remod/Add', 'Roof Style', 'Roof Matl', 'Exterior 1st',\n",
       "       'Exterior 2nd', 'Mas Vnr Type', 'Mas Vnr Area', 'Exter Qual',\n",
       "       'Exter Cond', 'Foundation', 'Bsmt Qual', 'Bsmt Cond', 'Bsmt Exposure',\n",
       "       'BsmtFin Type 1', 'BsmtFin SF 1', 'BsmtFin Type 2', 'BsmtFin SF 2',\n",
       "       'Bsmt Unf SF', 'Total Bsmt SF', 'Heating', 'Heating QC', 'Central Air',\n",
       "       'Electrical', '1st Flr SF', '2nd Flr SF', 'Low Qual Fin SF',\n",
       "       'Gr Liv Area', 'Bsmt Full Bath', 'Bsmt Half Bath', 'Full Bath',\n",
       "       'Half Bath', 'Bedroom AbvGr', 'Kitchen AbvGr', 'Kitchen Qual',\n",
       "       'TotRms AbvGrd', 'Functional', 'Fireplaces', 'Fireplace Qu',\n",
       "       'Garage Type', 'Garage Yr Blt', 'Garage Finish', 'Garage Cars',\n",
       "       'Garage Area', 'Garage Qual', 'Garage Cond', 'Paved Drive',\n",
       "       'Wood Deck SF', 'Open Porch SF', 'Enclosed Porch', '3Ssn Porch',\n",
       "       'Screen Porch', 'Pool Area', 'Pool QC', 'Fence', 'Misc Feature',\n",
       "       'Misc Val', 'Mo Sold', 'Yr Sold', 'Sale Type'],\n",
       "      dtype='object')"
      ]
     },
     "execution_count": 5,
     "metadata": {},
     "output_type": "execute_result"
    }
   ],
   "source": [
    "X_train.columns"
   ]
  },
  {
   "cell_type": "code",
   "execution_count": 6,
   "metadata": {},
   "outputs": [
    {
     "data": {
      "text/plain": [
       "Index(['MS SubClass', 'MS Zoning', 'Lot Frontage', 'Lot Area', 'Street',\n",
       "       'Alley', 'Lot Shape', 'Land Contour', 'Utilities', 'Lot Config',\n",
       "       'Land Slope', 'Neighborhood', 'Condition 1', 'Condition 2', 'Bldg Type',\n",
       "       'House Style', 'Overall Qual', 'Overall Cond', 'Year Built',\n",
       "       'Year Remod/Add', 'Roof Style', 'Roof Matl', 'Exterior 1st',\n",
       "       'Exterior 2nd', 'Mas Vnr Type', 'Mas Vnr Area', 'Exter Qual',\n",
       "       'Exter Cond', 'Foundation', 'Bsmt Qual', 'Bsmt Cond', 'Bsmt Exposure',\n",
       "       'BsmtFin Type 1', 'BsmtFin SF 1', 'BsmtFin Type 2', 'BsmtFin SF 2',\n",
       "       'Bsmt Unf SF', 'Total Bsmt SF', 'Heating', 'Heating QC', 'Central Air',\n",
       "       'Electrical', '1st Flr SF', '2nd Flr SF', 'Low Qual Fin SF',\n",
       "       'Gr Liv Area', 'Bsmt Full Bath', 'Bsmt Half Bath', 'Full Bath',\n",
       "       'Half Bath', 'Bedroom AbvGr', 'Kitchen AbvGr', 'Kitchen Qual',\n",
       "       'TotRms AbvGrd', 'Functional', 'Fireplaces', 'Fireplace Qu',\n",
       "       'Garage Type', 'Garage Yr Blt', 'Garage Finish', 'Garage Cars',\n",
       "       'Garage Area', 'Garage Qual', 'Garage Cond', 'Paved Drive',\n",
       "       'Wood Deck SF', 'Open Porch SF', 'Enclosed Porch', '3Ssn Porch',\n",
       "       'Screen Porch', 'Pool Area', 'Pool QC', 'Fence', 'Misc Feature',\n",
       "       'Misc Val', 'Mo Sold', 'Yr Sold', 'Sale Type'],\n",
       "      dtype='object')"
      ]
     },
     "execution_count": 6,
     "metadata": {},
     "output_type": "execute_result"
    }
   ],
   "source": [
    "X_test.columns"
   ]
  },
  {
   "cell_type": "code",
   "execution_count": 7,
   "metadata": {},
   "outputs": [],
   "source": [
    "# Take all nominal features except PID\n",
    "reduced_nominal_features = nominal_features[1:]"
   ]
  },
  {
   "cell_type": "markdown",
   "metadata": {},
   "source": [
    "**Get dummies of train dataset**"
   ]
  },
  {
   "cell_type": "code",
   "execution_count": 8,
   "metadata": {},
   "outputs": [],
   "source": [
    "X_train = pd.get_dummies(X_train, columns=reduced_nominal_features, drop_first=True)"
   ]
  },
  {
   "cell_type": "markdown",
   "metadata": {
    "pycharm": {
     "name": "#%% md\n"
    }
   },
   "source": [
    "**Get dummies of test dataset**"
   ]
  },
  {
   "cell_type": "code",
   "execution_count": 9,
   "metadata": {},
   "outputs": [],
   "source": [
    "X_test = pd.get_dummies(X_test, columns=reduced_nominal_features, drop_first=False)"
   ]
  },
  {
   "cell_type": "markdown",
   "metadata": {
    "pycharm": {
     "name": "#%% md\n"
    }
   },
   "source": [
    "**Ensure that the number of columns in the train and test datasets are identical and in the same order**"
   ]
  },
  {
   "cell_type": "code",
   "execution_count": 10,
   "metadata": {},
   "outputs": [],
   "source": [
    "def handle_unequal_train_test_columns(X_train, X_test):\n",
    "    columns_not_in_test = list(set(X_train.columns).difference(set(X_test.columns)))\n",
    "    for col in columns_not_in_test:\n",
    "        X_test[col] = 0\n",
    "        \n",
    "    columns_not_in_train = list(set(X_test.columns).difference(set(X_train.columns)))\n",
    "    X_test.drop(columns_not_in_train, axis=1, inplace=True)\n",
    "    return X_train[sorted(X_train.columns)], X_test[sorted(X_test.columns)]"
   ]
  },
  {
   "cell_type": "code",
   "execution_count": 11,
   "metadata": {},
   "outputs": [],
   "source": [
    "X_train, X_test = handle_unequal_train_test_columns(X_train, X_test)"
   ]
  },
  {
   "cell_type": "code",
   "execution_count": 12,
   "metadata": {},
   "outputs": [
    {
     "data": {
      "text/plain": [
       "True"
      ]
     },
     "execution_count": 12,
     "metadata": {},
     "output_type": "execute_result"
    }
   ],
   "source": [
    "np.array_equal(X_test.columns, X_train.columns)"
   ]
  },
  {
   "cell_type": "markdown",
   "metadata": {},
   "source": [
    "**Linear Regression**"
   ]
  },
  {
   "cell_type": "code",
   "execution_count": 13,
   "metadata": {},
   "outputs": [],
   "source": [
    "linreg = LinearRegression()"
   ]
  },
  {
   "cell_type": "code",
   "execution_count": 14,
   "metadata": {},
   "outputs": [
    {
     "data": {
      "text/plain": [
       "LinearRegression(copy_X=True, fit_intercept=True, n_jobs=None, normalize=False)"
      ]
     },
     "execution_count": 14,
     "metadata": {},
     "output_type": "execute_result"
    }
   ],
   "source": [
    "linreg.fit(X_train, y_train)"
   ]
  },
  {
   "cell_type": "code",
   "execution_count": 15,
   "metadata": {},
   "outputs": [],
   "source": [
    "y_train_pred = linreg.predict(X_train)"
   ]
  },
  {
   "cell_type": "code",
   "execution_count": 16,
   "metadata": {},
   "outputs": [],
   "source": [
    "def r2_adj(y_true, y_preds, p):\n",
    "    n = len(y_true)\n",
    "    y_mean = np.mean(y_true)\n",
    "    numerator = np.sum(np.square(y_true - y_preds)) / (n - p - 1)\n",
    "    denominator = np.sum(np.square(y_true - y_mean)) / (n - 1)\n",
    "    return (1 - (numerator / denominator)).values[0]"
   ]
  },
  {
   "cell_type": "code",
   "execution_count": 17,
   "metadata": {},
   "outputs": [],
   "source": [
    "def get_regression_metrics(y_true, y_pred, p):\n",
    "    mse = metrics.mean_squared_error(y_true, y_pred)\n",
    "    rmse = np.sqrt(mse)\n",
    "    msle = metrics.mean_squared_log_error(y_true, y_pred)\n",
    "    mae = metrics.median_absolute_error(y_true, y_pred)\n",
    "    r2 = metrics.r2_score(y_true, y_pred)\n",
    "    r2a = r2_adj(y_true, y_pred, p)\n",
    "    \n",
    "    print('Mean squared error      = ', mse)\n",
    "    print('Root mean squared error = ', rmse)\n",
    "    print('Mean squared log error  = ', msle)\n",
    "    print('Median absolute error   = ', mae)\n",
    "    print('R^2                     = ', r2)\n",
    "    print('Adjusted R^2            = ', r2a)\n",
    "    \n",
    "    return {\n",
    "        'mse': mse,\n",
    "        'rmse': rmse,\n",
    "        'msle': msle,\n",
    "        'mae': mae,\n",
    "        'r2': r2,\n",
    "        'r2_adjusted': r2a\n",
    "    }"
   ]
  },
  {
   "cell_type": "code",
   "execution_count": 18,
   "metadata": {},
   "outputs": [
    {
     "name": "stdout",
     "output_type": "stream",
     "text": [
      "Mean squared error      =  429148298.93546206\n",
      "Root mean squared error =  20715.894837912798\n",
      "Mean squared log error  =  0.02325335395329457\n",
      "Median absolute error   =  10988.316760100424\n",
      "R^2                     =  0.9314647305188853\n",
      "Adjusted R^2            =  0.9236105508758705\n"
     ]
    }
   ],
   "source": [
    "regression_metrics = get_regression_metrics(y_train, y_train_pred, X_train.shape[1])"
   ]
  },
  {
   "cell_type": "code",
   "execution_count": 19,
   "metadata": {
    "scrolled": true
   },
   "outputs": [
    {
     "data": {
      "text/plain": [
       "20715.894837912798"
      ]
     },
     "execution_count": 19,
     "metadata": {},
     "output_type": "execute_result"
    }
   ],
   "source": [
    "regression_metrics['rmse']"
   ]
  },
  {
   "cell_type": "code",
   "execution_count": 20,
   "metadata": {},
   "outputs": [],
   "source": [
    "# RMSE for all regression\n",
    "\n",
    "models_rmse = {}\n",
    "models_rmse['linreg'] = (-cross_val_score(linreg, X_train, y_train, cv=10, scoring='neg_root_mean_squared_error')).mean()"
   ]
  },
  {
   "cell_type": "code",
   "execution_count": 21,
   "metadata": {},
   "outputs": [
    {
     "data": {
      "text/plain": [
       "-698126660.4120839"
      ]
     },
     "execution_count": 21,
     "metadata": {},
     "output_type": "execute_result"
    }
   ],
   "source": [
    "scores = cross_val_score(LinearRegression(), X_train, y_train, cv=5)\n",
    "scores.mean()"
   ]
  },
  {
   "cell_type": "code",
   "execution_count": 22,
   "metadata": {},
   "outputs": [],
   "source": [
    "X_test_indices = X_test.index"
   ]
  },
  {
   "cell_type": "code",
   "execution_count": 23,
   "metadata": {},
   "outputs": [],
   "source": [
    "y_test_pred = linreg.predict(X_test)"
   ]
  },
  {
   "cell_type": "code",
   "execution_count": 24,
   "metadata": {},
   "outputs": [
    {
     "data": {
      "text/plain": [
       "array([[-8.95457310e+05, -8.95457900e+05,  5.67191873e+00,\n",
       "         1.31200185e+03, -4.39843729e+03, -3.83943579e+03,\n",
       "         2.49601868e+04,  7.53043629e+11,  1.34187858e+03,\n",
       "         6.71890821e+03, -3.81627340e+03,  4.13188720e+03,\n",
       "         3.41421215e+03,  5.72960299e+02,  2.55206922e+03,\n",
       "         3.26689098e+12,  3.26689098e+12,  3.26689098e+12,\n",
       "        -2.83484409e+02,  6.71652888e+02, -3.95056715e+03,\n",
       "         6.31326430e+03,  1.20930151e+04,  2.06099097e+04,\n",
       "         2.24904947e+04, -4.20465502e+03,  3.59532180e+03,\n",
       "         5.86984018e+03, -1.29110754e+03,  7.95793247e+03,\n",
       "         8.07997194e+03,  4.39786497e+04,  4.32217930e+03,\n",
       "        -2.16971834e+04,  1.44484898e+04,  1.42613832e+04,\n",
       "        -1.51537901e+03,  3.71230316e+00, -1.84694369e+03,\n",
       "         7.73641400e+03, -2.25333817e+04, -3.15810022e+04,\n",
       "         5.40141127e+03,  1.40637115e+04,  1.02843191e+04,\n",
       "        -1.29963354e+04, -2.41332491e+04, -9.72190115e+03,\n",
       "        -1.15853722e+04, -3.43580779e+04, -1.38451160e+04,\n",
       "        -1.82049561e+04, -1.60349173e+04, -8.46436321e+03,\n",
       "         4.03255819e+04,  1.78511237e+04,  3.22298795e+03,\n",
       "        -1.34925894e+04, -3.55038244e+03,  7.04177512e+03,\n",
       "         6.38415255e+03,  1.18167470e+04,  8.11496915e+03,\n",
       "         1.75745201e+04,  9.28103721e+03,  1.67705967e+04,\n",
       "         1.21127135e+04,  7.23735520e+03,  6.86415017e+01,\n",
       "        -2.80417540e+02,  2.80199052e+03, -2.16819963e+03,\n",
       "         1.41368123e+03,  1.11256363e+04,  6.36814947e+03,\n",
       "         4.68720016e+03,  1.46500391e+03,  5.74837231e+03,\n",
       "         1.66847839e+01,  2.72243349e+03, -6.02046355e+02,\n",
       "         5.45699326e+02,  7.76338724e+03,  1.29488433e+04,\n",
       "         1.88346258e+04,  1.75166361e+04,  1.66669492e+04,\n",
       "         1.63809930e+04, -2.28653884e+04, -3.61272583e+01,\n",
       "         8.95512477e+05,  2.18723256e+03,  1.08396982e+03,\n",
       "        -5.56624577e+03, -1.91721349e+04, -4.11689823e+04,\n",
       "         2.85057481e+03, -2.45626440e+03,  3.48980990e+03,\n",
       "        -1.14111006e+04,  1.79122055e+03, -1.76215455e+03,\n",
       "         1.02741497e+03,  1.07320767e+04, -6.68172674e+03,\n",
       "         6.65346246e+03,  1.36271602e+04, -1.14000701e+03,\n",
       "         1.26402466e+03, -2.47863119e+03,  6.73801422e-01,\n",
       "         8.09522696e+03, -2.02377678e+02, -1.12809848e+04,\n",
       "         2.00967101e+03,  7.96060910e+01,  1.35999936e+03,\n",
       "        -8.95476094e+05, -3.14942392e+04, -8.46822376e+04,\n",
       "        -3.19751785e+04, -2.98821138e+04, -3.42240215e+04,\n",
       "         8.74916885e+03,  4.38251935e+03,  1.43787254e+04,\n",
       "         4.49841005e+03, -2.06410895e+03,  5.77301921e+03,\n",
       "         8.52871231e+03, -1.36663185e+04, -3.39657811e+03,\n",
       "        -7.53043644e+11, -1.57999427e+03,  2.26376651e+04,\n",
       "         4.45671137e+04,  2.04512726e+04,  1.25387512e+04,\n",
       "         5.10055942e+03,  3.72222090e+01,  1.45565410e+04,\n",
       "         2.16577823e+04,  2.55101155e+04, -2.29599054e+03,\n",
       "         2.58757649e+04, -3.19933643e+03, -4.16413174e+04,\n",
       "         6.78863525e-01, -1.96233046e+02,  1.12133396e+04,\n",
       "         1.72502444e+04, -4.00468081e+03, -1.26433816e+04,\n",
       "        -1.57589158e+04,  8.71492013e+01, -1.55833982e+04,\n",
       "        -1.28689069e+04,  3.45647777e+03,  1.06519817e+05,\n",
       "        -7.92015045e+03, -1.45039653e+02, -8.00595434e+02,\n",
       "        -1.02922792e+04, -1.50298507e+04,  6.58720082e+03,\n",
       "        -2.03131967e+04,  7.78591199e+03,  1.86131001e+04,\n",
       "        -9.23057747e+03, -1.51214043e+04, -8.02598423e+03,\n",
       "        -1.60428229e+04, -8.62407601e+03,  3.40932601e+04,\n",
       "        -1.41294305e+04, -1.37375624e+04,  1.09996941e+01,\n",
       "         5.26739790e+03,  7.62004434e+03,  8.62555956e+02,\n",
       "         2.02482911e+12,  2.38102471e+03,  3.66501103e+04,\n",
       "        -9.80120611e+03,  7.21409947e+03,  3.96059449e+04,\n",
       "        -7.03911996e+03, -1.54802003e+04, -2.21180005e+03,\n",
       "        -4.21838538e+04, -1.49081245e+04,  1.47116700e+04,\n",
       "         3.80773322e+04,  1.32527606e+04,  6.11118883e+03,\n",
       "         2.26836217e+03,  1.89834523e+04,  2.18971986e+04,\n",
       "         5.33347899e+03, -2.02482911e+12,  4.48304908e+03,\n",
       "         1.54965600e+03, -3.26689098e+12,  2.78728890e+04,\n",
       "         9.50197601e+00,  3.61786480e+02,  4.38544445e+01,\n",
       "        -3.75264584e+02]])"
      ]
     },
     "execution_count": 24,
     "metadata": {},
     "output_type": "execute_result"
    }
   ],
   "source": [
    "linreg.coef_"
   ]
  },
  {
   "cell_type": "code",
   "execution_count": 25,
   "metadata": {},
   "outputs": [],
   "source": [
    "y_test_pred = [i[0] for i in y_test_pred.tolist()]"
   ]
  },
  {
   "cell_type": "code",
   "execution_count": 26,
   "metadata": {},
   "outputs": [],
   "source": [
    "def make_and_get_submissions_file(X_test_indices, y_test_pred, file_name):\n",
    "    submissions = pd.DataFrame({'Id': X_test_indices, 'SalePrice': y_test_pred})\n",
    "    submissions.set_index('Id', inplace=True)\n",
    "    submissions.sort_index(inplace=True)\n",
    "    submissions.to_csv('../data/{}.csv'.format(file_name))\n",
    "    \n",
    "    return submissions"
   ]
  },
  {
   "cell_type": "code",
   "execution_count": 27,
   "metadata": {},
   "outputs": [],
   "source": [
    "submissions = make_and_get_submissions_file(X_test_indices, y_test_pred, 'submissions_baseline_regression')"
   ]
  },
  {
   "cell_type": "markdown",
   "metadata": {},
   "source": [
    "## Scaling and Regularization"
   ]
  },
  {
   "cell_type": "code",
   "execution_count": 28,
   "metadata": {},
   "outputs": [],
   "source": [
    "# Train data\n",
    "\n",
    "X_train = train_cleaned.drop(['SalePrice', 'PID'], axis=1).copy()\n",
    "y_train = train_cleaned[['SalePrice']].copy()\n",
    "\n",
    "# Test data\n",
    "\n",
    "X_test = test_cleaned.drop(['PID'], axis=1).copy()"
   ]
  },
  {
   "cell_type": "code",
   "execution_count": 29,
   "metadata": {},
   "outputs": [],
   "source": [
    "nominal_features = ['PID', 'MS SubClass', 'MS Zoning', 'Street', 'Alley', 'Land Contour', 'Lot Config',\n",
    "                    'Neighborhood', 'Condition 1', 'Condition 2', 'Bldg Type', 'House Style', 'Roof Style',\n",
    "                    'Roof Matl', 'Exterior 1st', 'Exterior 2nd', 'Mas Vnr Type', 'Foundation', 'Heating',\n",
    "                    'Central Air', 'Garage Type', 'Misc Feature', 'Sale Type']"
   ]
  },
  {
   "cell_type": "code",
   "execution_count": 30,
   "metadata": {},
   "outputs": [],
   "source": [
    "# Take all nominal features except PID\n",
    "reduced_nominal_features = nominal_features[1:]"
   ]
  },
  {
   "cell_type": "markdown",
   "metadata": {},
   "source": [
    "**Get dummies for nominal features**"
   ]
  },
  {
   "cell_type": "code",
   "execution_count": 31,
   "metadata": {},
   "outputs": [],
   "source": [
    "X_train = pd.get_dummies(X_train, columns=reduced_nominal_features, drop_first=True)"
   ]
  },
  {
   "cell_type": "code",
   "execution_count": 32,
   "metadata": {},
   "outputs": [],
   "source": [
    "X_test = pd.get_dummies(X_test, columns=reduced_nominal_features, drop_first=False)"
   ]
  },
  {
   "cell_type": "code",
   "execution_count": 33,
   "metadata": {},
   "outputs": [],
   "source": [
    "X_train, X_test = handle_unequal_train_test_columns(X_train, X_test)\n",
    "X_train_columns = X_train.columns\n",
    "X_test_columns = X_test.columns"
   ]
  },
  {
   "cell_type": "markdown",
   "metadata": {},
   "source": [
    "**Standardization of features**"
   ]
  },
  {
   "cell_type": "code",
   "execution_count": 34,
   "metadata": {
    "pycharm": {
     "name": "#%%\n"
    }
   },
   "outputs": [],
   "source": [
    "ss = StandardScaler()\n",
    "ss.fit(X_train)\n",
    "X_train = ss.transform(X_train)\n",
    "X_test = ss.transform(X_test)"
   ]
  },
  {
   "cell_type": "markdown",
   "metadata": {},
   "source": [
    "**Lasso Regression with All Features** "
   ]
  },
  {
   "cell_type": "code",
   "execution_count": 35,
   "metadata": {
    "pycharm": {
     "name": "#%%\n"
    }
   },
   "outputs": [],
   "source": [
    "# Cross Validation\n",
    "optimal_lasso = LassoCV(n_alphas=500, cv=10) # uses 10-fold"
   ]
  },
  {
   "cell_type": "code",
   "execution_count": 36,
   "metadata": {},
   "outputs": [
    {
     "data": {
      "text/plain": [
       "0.9111559457143654"
      ]
     },
     "execution_count": 36,
     "metadata": {},
     "output_type": "execute_result"
    }
   ],
   "source": [
    "# Model Fitting and Evaluation\n",
    "optimal_lasso.fit(X_train, y_train)\n",
    "\n",
    "lasso = Lasso(alpha=optimal_lasso.alpha_)\n",
    "lasso.fit(X_train, y_train)\n",
    "\n",
    "lasso_scores = cross_val_score(lasso, X_train, y_train, cv=10)\n",
    "lasso_scores.mean()"
   ]
  },
  {
   "cell_type": "code",
   "execution_count": 37,
   "metadata": {},
   "outputs": [
    {
     "data": {
      "text/plain": [
       "23432.199292472586"
      ]
     },
     "execution_count": 37,
     "metadata": {},
     "output_type": "execute_result"
    }
   ],
   "source": [
    "(-cross_val_score(lasso, X_train, y_train, cv=10, scoring='neg_root_mean_squared_error')).mean()"
   ]
  },
  {
   "cell_type": "code",
   "execution_count": 38,
   "metadata": {},
   "outputs": [],
   "source": [
    "models_rmse['lasso'] = (-cross_val_score(lasso, X_train, y_train, cv=10, scoring='neg_root_mean_squared_error')).mean()"
   ]
  },
  {
   "cell_type": "code",
   "execution_count": 39,
   "metadata": {},
   "outputs": [],
   "source": [
    "y_test_pred = lasso.predict(X_test)"
   ]
  },
  {
   "cell_type": "code",
   "execution_count": 40,
   "metadata": {},
   "outputs": [],
   "source": [
    "submissions = make_and_get_submissions_file(X_test_indices, y_test_pred, 'submissions_lasso_regression_all_features')"
   ]
  },
  {
   "cell_type": "code",
   "execution_count": 41,
   "metadata": {},
   "outputs": [
    {
     "data": {
      "text/plain": [
       "<StemContainer object of 3 artists>"
      ]
     },
     "execution_count": 41,
     "metadata": {},
     "output_type": "execute_result"
    },
    {
     "data": {
      "image/png": "[encoded data removed]",
      "text/plain": [
       "<Figure size 720x576 with 1 Axes>"
      ]
     },
     "metadata": {
      "needs_background": "light"
     },
     "output_type": "display_data"
    }
   ],
   "source": [
    "plt.figure(figsize=(10, 8))\n",
    "plt.stem(lasso.coef_)"
   ]
  },
  {
   "cell_type": "code",
   "execution_count": 42,
   "metadata": {},
   "outputs": [
    {
     "data": {
      "text/plain": [
       "array([  0,   3,   4,   5,   7,   8,  10,  11,  12,  13,  14,  16,  17,\n",
       "        19,  20,  22,  23,  24,  25,  28,  31,  33,  35,  36,  38,  39,\n",
       "        41,  42,  43,  44,  45,  46,  47,  48,  49,  52,  54,  56,  59,\n",
       "        60,  61,  62,  63,  65,  67,  70,  71,  72,  73,  74,  76,  77,\n",
       "        78,  79,  81,  84,  85,  87,  88,  90,  91,  92,  93,  94,  95,\n",
       "        96,  98, 100, 101, 102, 104, 105, 106, 107, 109, 110, 111, 113,\n",
       "       114, 115, 116, 117, 118, 119, 120, 121, 122, 123, 125, 130, 132,\n",
       "       133, 134, 135, 138, 139, 141, 142, 144, 146, 148, 149, 150, 151,\n",
       "       153, 154, 155, 156, 157, 158, 160, 163, 164, 165, 166, 167, 168,\n",
       "       170, 171, 172, 173, 176, 177, 178, 180, 181, 182, 183, 185, 187,\n",
       "       188, 189, 190, 191, 192, 193, 196, 197, 198, 199, 200, 201, 202,\n",
       "       203, 204, 205, 206, 207])"
      ]
     },
     "execution_count": 42,
     "metadata": {},
     "output_type": "execute_result"
    }
   ],
   "source": [
    "(lasso.coef_ != 0).nonzero()[0]"
   ]
  },
  {
   "cell_type": "code",
   "execution_count": 43,
   "metadata": {},
   "outputs": [
    {
     "data": {
      "text/plain": [
       "Index(['1st Flr SF', 'Alley_None', 'Alley_Pave', 'Bedroom AbvGr',\n",
       "       'Bldg Type_Duplex', 'Bldg Type_Twnhs', 'Bsmt Cond', 'Bsmt Exposure',\n",
       "       'Bsmt Full Bath', 'Bsmt Half Bath',\n",
       "       ...\n",
       "       'Sale Type_WD ', 'Screen Porch', 'Street_Pave', 'TotRms AbvGrd',\n",
       "       'Total Bsmt SF', 'Utilities', 'Wood Deck SF', 'Year Built',\n",
       "       'Year Remod/Add', 'Yr Sold'],\n",
       "      dtype='object', length=148)"
      ]
     },
     "execution_count": 43,
     "metadata": {},
     "output_type": "execute_result"
    }
   ],
   "source": [
    "X_test_columns[(lasso.coef_ != 0).nonzero()[0]]"
   ]
  },
  {
   "cell_type": "code",
   "execution_count": 44,
   "metadata": {},
   "outputs": [
    {
     "data": {
      "text/plain": [
       "array([ 1.68618374e+03,  5.80195180e+01, -5.75663365e+02, -2.67562458e+03,\n",
       "       -6.55812234e+00, -6.53248322e+02, -1.90691344e+03,  4.25726467e+03,\n",
       "        1.27201452e+03, -4.77959112e+01,  1.45539617e+03,  9.12568508e+03,\n",
       "        9.87559151e+02,  2.95355025e+02, -5.90213621e+02,  2.38526473e+03,\n",
       "        1.05321533e+03,  1.77529134e+03, -5.30775313e+02, -2.78791945e+02,\n",
       "        1.25299090e+03, -2.37430386e+02,  4.77492599e+01, -3.29900344e+02,\n",
       "       -7.54367183e+00,  4.96537518e+03, -1.97845955e+02,  2.71945937e+03,\n",
       "        1.65392522e+01,  1.47238379e+03, -3.28479081e+02, -1.98478004e+01,\n",
       "        6.05982840e+02, -1.83466524e+02, -3.65162429e+02, -7.34118559e+02,\n",
       "        5.99015334e+02, -6.90874594e+02, -1.18101415e+03, -1.77506637e+02,\n",
       "        1.02486550e+02, -5.47334971e+02,  1.48026739e+02,  4.15773625e+01,\n",
       "       -1.86289377e+02,  1.83630022e+03, -5.67094669e+02,  1.05679312e+03,\n",
       "        1.23201806e+03,  1.51700124e+02,  9.01545524e+01,  3.66807626e+03,\n",
       "        4.04346959e+03,  1.09456127e+03,  2.34300265e+02, -1.57524711e+02,\n",
       "        9.82151299e+02,  7.39548815e+02,  2.13350168e+03,  2.51228930e+04,\n",
       "        5.54314529e+02,  9.24874585e+02, -3.35557947e+02, -5.66249330e+02,\n",
       "       -1.10792539e+03,  2.30508151e+02,  6.30386774e+02,  4.39646636e+02,\n",
       "       -9.53638842e+01, -1.97911391e+02, -1.83377958e+03,  4.52702761e+03,\n",
       "        2.26532495e+03, -6.83013730e+01, -3.98886281e+00,  3.80566871e+03,\n",
       "        1.52535703e+03, -3.45958895e+02,  5.10926552e+02,  1.18104891e+03,\n",
       "        2.75140680e+02, -5.45173067e+02, -5.12928290e+03, -1.13313727e+03,\n",
       "       -3.85091305e+03, -6.32489041e+02, -1.25048988e+03,  9.22143852e+02,\n",
       "        4.57993107e+02, -3.79183167e+02, -1.72096213e+03, -5.09517373e+02,\n",
       "        1.39226428e+03,  4.29519591e+02, -1.32142526e+03,  5.91308472e+03,\n",
       "        2.78622592e+03,  2.28564681e+03,  8.17250010e+02, -5.44301585e+02,\n",
       "       -2.77009208e+02,  3.71068758e+02,  1.21178793e+03,  1.15858846e+03,\n",
       "       -8.40942238e+02,  1.99127288e+03, -7.72210047e+02, -2.60976152e+01,\n",
       "        4.07323537e+01,  3.28368809e+03,  9.83958796e+01, -1.05682943e+03,\n",
       "        1.45122641e+03, -1.34285791e+03,  2.97091402e+03,  7.03224045e+03,\n",
       "       -1.87540927e+02,  4.17610586e+02, -6.33227086e+02,  9.20139077e+02,\n",
       "        5.95847140e+03,  3.89013815e+02,  5.20373319e+03,  1.15169632e+04,\n",
       "        3.48374315e+03,  3.56920081e+02,  7.04304893e+02, -2.82877846e+02,\n",
       "        1.75596535e+03, -1.14769438e+02,  1.98546612e+03, -1.67358068e+03,\n",
       "       -9.23672604e+01,  4.30686852e+02,  1.21498345e+03,  4.00333029e+02,\n",
       "        4.15025158e+03,  5.42460117e+02,  1.18853938e+00,  3.22501472e+00,\n",
       "        1.39282792e+02,  1.57460900e+03,  6.47836994e+03,  7.17331520e+02,\n",
       "        1.23807695e+03,  8.27304713e+03,  1.13849240e+03, -8.01834609e+01])"
      ]
     },
     "execution_count": 44,
     "metadata": {},
     "output_type": "execute_result"
    }
   ],
   "source": [
    "lasso.coef_[(lasso.coef_ != 0).nonzero()[0]]"
   ]
  },
  {
   "cell_type": "markdown",
   "metadata": {},
   "source": [
    "**Ridge Regression**"
   ]
  },
  {
   "cell_type": "code",
   "execution_count": 45,
   "metadata": {
    "scrolled": true
   },
   "outputs": [],
   "source": [
    "# Cross Validation\n",
    "optimal_ridge = RidgeCV(alphas=np.logspace(0, 5, 200), cv=10)"
   ]
  },
  {
   "cell_type": "code",
   "execution_count": null,
   "metadata": {},
   "outputs": [],
   "source": [
    "# Model Fitting and Evaluation\n",
    "optimal_ridge.fit(X_train, y_train)\n",
    "\n",
    "ridge = Ridge(alpha=optimal_ridge.alpha_)\n",
    "ridge.fit(X_train, y_train)\n",
    "\n",
    "ridge_scores = cross_val_score(ridge, X_train, y_train, cv=10)\n",
    "ridge_scores.mean()"
   ]
  },
  {
   "cell_type": "code",
   "execution_count": null,
   "metadata": {},
   "outputs": [],
   "source": [
    "(-cross_val_score(ridge, X_train, y_train, cv=10, scoring='neg_root_mean_squared_error')).mean()"
   ]
  },
  {
   "cell_type": "code",
   "execution_count": null,
   "metadata": {},
   "outputs": [],
   "source": [
    "models_rmse['ridge'] = (-cross_val_score(ridge, X_train, y_train, cv=10, scoring='neg_root_mean_squared_error')).mean()"
   ]
  },
  {
   "cell_type": "code",
   "execution_count": null,
   "metadata": {},
   "outputs": [],
   "source": [
    "y_test_pred = ridge.predict(X_test)"
   ]
  },
  {
   "cell_type": "code",
   "execution_count": null,
   "metadata": {},
   "outputs": [],
   "source": [
    "y_test_pred = y_test_pred.reshape(-1)"
   ]
  },
  {
   "cell_type": "code",
   "execution_count": null,
   "metadata": {},
   "outputs": [],
   "source": [
    "submissions = make_and_get_submissions_file(X_test_indices, y_test_pred, 'submissions_ridge_regression_all_features')"
   ]
  },
  {
   "cell_type": "markdown",
   "metadata": {},
   "source": [
    "**Elastic Net Regression**"
   ]
  },
  {
   "cell_type": "code",
   "execution_count": null,
   "metadata": {},
   "outputs": [],
   "source": [
    "optimal_enet = ElasticNetCV(l1_ratio=np.linspace(0.01, 1.0, 25), n_alphas=100, cv=10,\n",
    "                            verbose=1)"
   ]
  },
  {
   "cell_type": "code",
   "execution_count": null,
   "metadata": {},
   "outputs": [],
   "source": [
    "optimal_enet.fit(X_train, y_train)\n",
    "\n",
    "enet = ElasticNet(alpha=optimal_enet.alpha_, l1_ratio=optimal_enet.l1_ratio_)\n",
    "enet.fit(X_train, y_train)\n",
    "\n",
    "enet_scores = cross_val_score(enet, X_train, y_train, cv=10)\n",
    "np.mean(enet_scores)"
   ]
  },
  {
   "cell_type": "code",
   "execution_count": null,
   "metadata": {},
   "outputs": [],
   "source": [
    "(-cross_val_score(enet, X_train, y_train, cv=10, scoring='neg_root_mean_squared_error')).mean()"
   ]
  },
  {
   "cell_type": "code",
   "execution_count": null,
   "metadata": {},
   "outputs": [],
   "source": [
    "models_rmse['enet'] = (-cross_val_score(enet, X_train, y_train, cv=10, scoring='neg_root_mean_squared_error')).mean()"
   ]
  },
  {
   "cell_type": "code",
   "execution_count": null,
   "metadata": {},
   "outputs": [],
   "source": [
    "y_test_pred = enet.predict(X_test)"
   ]
  },
  {
   "cell_type": "code",
   "execution_count": null,
   "metadata": {},
   "outputs": [],
   "source": [
    "y_test_pred = y_test_pred.reshape(-1)"
   ]
  },
  {
   "cell_type": "code",
   "execution_count": null,
   "metadata": {},
   "outputs": [],
   "source": [
    "submissions = make_and_get_submissions_file(X_test_indices, y_test_pred, 'submissions_enet_regression_all_features')"
   ]
  },
  {
   "cell_type": "code",
   "execution_count": null,
   "metadata": {},
   "outputs": [],
   "source": [
    "models_rmse"
   ]
  },
  {
   "cell_type": "markdown",
   "metadata": {},
   "source": [
    "## Feature Engineering"
   ]
  },
  {
   "cell_type": "code",
   "execution_count": null,
   "metadata": {},
   "outputs": [],
   "source": [
    "# Train data\n",
    "\n",
    "X_train = train_cleaned.drop(['SalePrice'], axis=1).copy()\n",
    "y_train = train_cleaned[['SalePrice']].copy()\n",
    "\n",
    "# Test data\n",
    "\n",
    "X_test = test_cleaned.drop([], axis=1).copy()"
   ]
  },
  {
   "cell_type": "markdown",
   "metadata": {},
   "source": [
    "**Explore discrete, continuous, and ordinal variables with high correlation with SalePrice**"
   ]
  },
  {
   "cell_type": "code",
   "execution_count": null,
   "metadata": {},
   "outputs": [],
   "source": [
    "subset_features = discrete_features + continuous_features + ordinal_features + ['SalePrice']"
   ]
  },
  {
   "cell_type": "code",
   "execution_count": null,
   "metadata": {},
   "outputs": [],
   "source": [
    "train_cleaned[subset_features].corr()['SalePrice'].sort_values(ascending=False)"
   ]
  },
  {
   "cell_type": "code",
   "execution_count": null,
   "metadata": {
    "scrolled": true
   },
   "outputs": [],
   "source": [
    "train_cleaned[subset_features].corr()['SalePrice'][train_cleaned.corr()['SalePrice'] > 0.5].sort_values(ascending=False)"
   ]
  },
  {
   "cell_type": "code",
   "execution_count": null,
   "metadata": {},
   "outputs": [],
   "source": [
    "sns.pairplot(train_cleaned, y_vars=['SalePrice', 'Overall Qual', 'Exter Qual', 'Gr Liv Area', 'Kitchen Qual', \n",
    "                                    'Garage Area', 'Garage Cars', 'Total Bsmt SF', '1st Flr SF', 'Bsmt Qual', \n",
    "                                    'Year Built', 'Garage Finish', 'Year Remod/Add', 'Full Bath', \n",
    "                                    'Fireplace Qu', 'Mas Vnr Area', 'TotRms AbvGrd'],\n",
    "             x_vars=['SalePrice'])"
   ]
  },
  {
   "cell_type": "code",
   "execution_count": null,
   "metadata": {},
   "outputs": [],
   "source": [
    "chosen_numeric_and_ordinal_features = ['Overall Qual', 'Gr Liv Area', 'Garage Area', 'Total Bsmt SF', '1st Flr SF', 'Year Built', 'Year Remod/Add', 'TotRms AbvGrd']"
   ]
  },
  {
   "cell_type": "code",
   "execution_count": null,
   "metadata": {},
   "outputs": [],
   "source": [
    "corr = X_train[discrete_features + continuous_features + ordinal_features].corr()\n",
    "mask = np.zeros_like(corr)\n",
    "mask[np.triu_indices_from(mask)] = True\n",
    "\n",
    "# Plot our correlation heatmap, while masking the upper triangle to be white.\n",
    "plt.figure(figsize=(15,10))\n",
    "sns.heatmap(corr, mask=mask, vmax=.3, square=True, cmap='coolwarm')\n",
    "plt.title('Heatmap of correlations between all numeric features');\n",
    "\n",
    "# plt.figure(figsize=(15,15))\n",
    "# sns.heatmap(X_train[discrete_features + continuous_features + ordinal_features].corr(), cmap='coolwarm')"
   ]
  },
  {
   "cell_type": "code",
   "execution_count": null,
   "metadata": {},
   "outputs": [],
   "source": [
    "train_cleaned.hist(figsize=(15, 45), layout=(-1,4));"
   ]
  },
  {
   "cell_type": "markdown",
   "metadata": {},
   "source": [
    "**Nominal Features**"
   ]
  },
  {
   "cell_type": "code",
   "execution_count": null,
   "metadata": {},
   "outputs": [],
   "source": [
    "# set(nominal_features).difference(set(train_cleaned.corr().columns))"
   ]
  },
  {
   "cell_type": "code",
   "execution_count": null,
   "metadata": {},
   "outputs": [],
   "source": [
    "f_values, p_values = f_classif(X_train[nominal_features].apply(LabelEncoder().fit_transform), y_train)\n",
    "p_values"
   ]
  },
  {
   "cell_type": "code",
   "execution_count": null,
   "metadata": {},
   "outputs": [],
   "source": [
    "np.where(p_values < 0.05)[0]"
   ]
  },
  {
   "cell_type": "code",
   "execution_count": null,
   "metadata": {},
   "outputs": [],
   "source": [
    "chosen_nominal_features = X_train[nominal_features].iloc[:, np.where(p_values < 0.05)[0]].columns.tolist()"
   ]
  },
  {
   "cell_type": "code",
   "execution_count": null,
   "metadata": {},
   "outputs": [],
   "source": [
    "X_train = X_train[chosen_numeric_and_ordinal_features + chosen_nominal_features]"
   ]
  },
  {
   "cell_type": "code",
   "execution_count": null,
   "metadata": {},
   "outputs": [],
   "source": [
    "X_test = X_test[chosen_numeric_and_ordinal_features + chosen_nominal_features]"
   ]
  },
  {
   "cell_type": "markdown",
   "metadata": {},
   "source": [
    "**Get dummies of train dataset**"
   ]
  },
  {
   "cell_type": "code",
   "execution_count": null,
   "metadata": {},
   "outputs": [],
   "source": [
    "X_train = pd.get_dummies(X_train, columns=chosen_nominal_features, drop_first=True)"
   ]
  },
  {
   "cell_type": "markdown",
   "metadata": {
    "pycharm": {
     "name": "#%% md\n"
    }
   },
   "source": [
    "**Get dummies of test dataset**"
   ]
  },
  {
   "cell_type": "code",
   "execution_count": null,
   "metadata": {},
   "outputs": [],
   "source": [
    "X_test = pd.get_dummies(X_test, columns=chosen_nominal_features, drop_first=False)"
   ]
  },
  {
   "cell_type": "markdown",
   "metadata": {
    "pycharm": {
     "name": "#%% md\n"
    }
   },
   "source": [
    "**Ensure that the number of columns in the train and test datasets are identical and in the same order**"
   ]
  },
  {
   "cell_type": "code",
   "execution_count": null,
   "metadata": {},
   "outputs": [],
   "source": [
    "X_train, X_test = handle_unequal_train_test_columns(X_train, X_test)"
   ]
  },
  {
   "cell_type": "code",
   "execution_count": null,
   "metadata": {},
   "outputs": [],
   "source": [
    "X_train_columns = X_train.columns\n",
    "X_test_columns = X_test.columns"
   ]
  },
  {
   "cell_type": "code",
   "execution_count": null,
   "metadata": {},
   "outputs": [],
   "source": [
    "np.array_equal(X_test.columns, X_train.columns)"
   ]
  },
  {
   "cell_type": "markdown",
   "metadata": {},
   "source": [
    "**Linear Regression**"
   ]
  },
  {
   "cell_type": "code",
   "execution_count": null,
   "metadata": {},
   "outputs": [],
   "source": [
    "linreg = LinearRegression()"
   ]
  },
  {
   "cell_type": "code",
   "execution_count": null,
   "metadata": {},
   "outputs": [],
   "source": [
    "linreg.fit(X_train, y_train)"
   ]
  },
  {
   "cell_type": "code",
   "execution_count": null,
   "metadata": {},
   "outputs": [],
   "source": [
    "y_train_pred = linreg.predict(X_train)"
   ]
  },
  {
   "cell_type": "code",
   "execution_count": null,
   "metadata": {},
   "outputs": [],
   "source": [
    "regression_metrics = get_regression_metrics(y_train, y_train_pred, X_train.shape[1])"
   ]
  },
  {
   "cell_type": "code",
   "execution_count": null,
   "metadata": {
    "scrolled": true
   },
   "outputs": [],
   "source": [
    "models_rmse = {}\n",
    "models_rmse['linreg'] = (-cross_val_score(linreg, X_train, y_train, cv=10, scoring='neg_root_mean_squared_error')).mean()"
   ]
  },
  {
   "cell_type": "code",
   "execution_count": null,
   "metadata": {},
   "outputs": [],
   "source": [
    "scores = cross_val_score(linreg, X_train, y_train, cv=5)\n",
    "scores.mean()"
   ]
  },
  {
   "cell_type": "code",
   "execution_count": null,
   "metadata": {},
   "outputs": [],
   "source": [
    "X_test_indices = X_test.index"
   ]
  },
  {
   "cell_type": "code",
   "execution_count": null,
   "metadata": {},
   "outputs": [],
   "source": [
    "y_test_pred = linreg.predict(X_test)"
   ]
  },
  {
   "cell_type": "code",
   "execution_count": null,
   "metadata": {},
   "outputs": [],
   "source": [
    "linreg.coef_"
   ]
  },
  {
   "cell_type": "code",
   "execution_count": null,
   "metadata": {},
   "outputs": [],
   "source": [
    "y_test_pred = [i[0] for i in y_test_pred.tolist()]"
   ]
  },
  {
   "cell_type": "code",
   "execution_count": null,
   "metadata": {},
   "outputs": [],
   "source": [
    "submissions = make_and_get_submissions_file(X_test_indices, y_test_pred, 'submissions_linear_regression_feature_engineered')"
   ]
  },
  {
   "cell_type": "markdown",
   "metadata": {},
   "source": [
    "**Standardization of features**"
   ]
  },
  {
   "cell_type": "code",
   "execution_count": null,
   "metadata": {
    "pycharm": {
     "name": "#%%\n"
    }
   },
   "outputs": [],
   "source": [
    "ss = StandardScaler()\n",
    "ss.fit(X_train)\n",
    "X_train = ss.transform(X_train)\n",
    "X_test = ss.transform(X_test)"
   ]
  },
  {
   "cell_type": "markdown",
   "metadata": {},
   "source": [
    "**Lasso Regression** "
   ]
  },
  {
   "cell_type": "code",
   "execution_count": null,
   "metadata": {
    "pycharm": {
     "name": "#%%\n"
    }
   },
   "outputs": [],
   "source": [
    "# Cross Validation\n",
    "optimal_lasso = LassoCV(n_alphas=500, cv=10) # uses 10-fold"
   ]
  },
  {
   "cell_type": "code",
   "execution_count": null,
   "metadata": {},
   "outputs": [],
   "source": [
    "# Model Fitting and Evaluation\n",
    "optimal_lasso.fit(X_train, y_train)\n",
    "\n",
    "lasso = Lasso(alpha=optimal_lasso.alpha_)\n",
    "lasso.fit(X_train, y_train)\n",
    "\n",
    "lasso_scores = cross_val_score(lasso, X_train, y_train, cv=10)\n",
    "lasso_scores.mean()"
   ]
  },
  {
   "cell_type": "code",
   "execution_count": null,
   "metadata": {},
   "outputs": [],
   "source": [
    "models_rmse['lasso'] = (-cross_val_score(lasso, X_train, y_train, cv=10, scoring='neg_root_mean_squared_error')).mean()"
   ]
  },
  {
   "cell_type": "code",
   "execution_count": null,
   "metadata": {},
   "outputs": [],
   "source": [
    "y_test_pred = lasso.predict(X_test)"
   ]
  },
  {
   "cell_type": "code",
   "execution_count": null,
   "metadata": {},
   "outputs": [],
   "source": [
    "submissions = make_and_get_submissions_file(X_test_indices, y_test_pred, 'submissions_lasso_regression_feature_engineered')"
   ]
  },
  {
   "cell_type": "code",
   "execution_count": null,
   "metadata": {},
   "outputs": [],
   "source": [
    "plt.figure(figsize=(10, 8))\n",
    "plt.stem(lasso.coef_)"
   ]
  },
  {
   "cell_type": "code",
   "execution_count": null,
   "metadata": {},
   "outputs": [],
   "source": [
    "(lasso.coef_ != 0).nonzero()[0]"
   ]
  },
  {
   "cell_type": "code",
   "execution_count": null,
   "metadata": {},
   "outputs": [],
   "source": [
    "X_test_columns[(lasso.coef_ != 0).nonzero()[0]]"
   ]
  },
  {
   "cell_type": "code",
   "execution_count": null,
   "metadata": {},
   "outputs": [],
   "source": [
    "lasso.coef_[(lasso.coef_ != 0).nonzero()[0]]"
   ]
  },
  {
   "cell_type": "markdown",
   "metadata": {},
   "source": [
    "**Ridge Regression**"
   ]
  },
  {
   "cell_type": "code",
   "execution_count": null,
   "metadata": {
    "scrolled": true
   },
   "outputs": [],
   "source": [
    "# Cross Validation\n",
    "optimal_ridge = RidgeCV(alphas=np.logspace(0, 5, 200), cv=10)"
   ]
  },
  {
   "cell_type": "code",
   "execution_count": null,
   "metadata": {},
   "outputs": [],
   "source": [
    "# Model Fitting and Evaluation\n",
    "optimal_ridge.fit(X_train, y_train)\n",
    "\n",
    "ridge = Ridge(alpha=optimal_ridge.alpha_)\n",
    "ridge.fit(X_train, y_train)\n",
    "\n",
    "ridge_scores = cross_val_score(ridge, X_train, y_train, cv=10)\n",
    "ridge_scores.mean()"
   ]
  },
  {
   "cell_type": "code",
   "execution_count": null,
   "metadata": {},
   "outputs": [],
   "source": [
    "models_rmse['ridge'] = (-cross_val_score(ridge, X_train, y_train, cv=10, scoring='neg_root_mean_squared_error')).mean()"
   ]
  },
  {
   "cell_type": "code",
   "execution_count": null,
   "metadata": {},
   "outputs": [],
   "source": [
    "y_test_pred = ridge.predict(X_test)"
   ]
  },
  {
   "cell_type": "code",
   "execution_count": null,
   "metadata": {},
   "outputs": [],
   "source": [
    "y_test_pred = y_test_pred.reshape(-1)"
   ]
  },
  {
   "cell_type": "code",
   "execution_count": null,
   "metadata": {},
   "outputs": [],
   "source": [
    "submissions = make_and_get_submissions_file(X_test_indices, y_test_pred, 'submissions_ridge_regression_feature_engineered')"
   ]
  },
  {
   "cell_type": "markdown",
   "metadata": {},
   "source": [
    "**Elastic Net Regression**"
   ]
  },
  {
   "cell_type": "code",
   "execution_count": null,
   "metadata": {},
   "outputs": [],
   "source": [
    "optimal_enet = ElasticNetCV(l1_ratio=np.linspace(0.01, 1.0, 25), n_alphas=100, cv=10,\n",
    "                            verbose=1)"
   ]
  },
  {
   "cell_type": "code",
   "execution_count": null,
   "metadata": {},
   "outputs": [],
   "source": [
    "optimal_enet.fit(X_train, y_train)\n",
    "\n",
    "enet = ElasticNet(alpha=optimal_enet.alpha_, l1_ratio=optimal_enet.l1_ratio_)\n",
    "enet.fit(X_train, y_train)\n",
    "\n",
    "enet_scores = cross_val_score(enet, X_train, y_train, cv=10)\n",
    "np.mean(enet_scores)"
   ]
  },
  {
   "cell_type": "code",
   "execution_count": null,
   "metadata": {},
   "outputs": [],
   "source": [
    "models_rmse['enet'] = (-cross_val_score(enet, X_train, y_train, cv=10, scoring='neg_root_mean_squared_error')).mean()"
   ]
  },
  {
   "cell_type": "code",
   "execution_count": null,
   "metadata": {},
   "outputs": [],
   "source": [
    "y_test_pred = enet.predict(X_test)"
   ]
  },
  {
   "cell_type": "code",
   "execution_count": null,
   "metadata": {},
   "outputs": [],
   "source": [
    "y_test_pred = y_test_pred.reshape(-1)"
   ]
  },
  {
   "cell_type": "code",
   "execution_count": null,
   "metadata": {},
   "outputs": [],
   "source": [
    "submissions = make_and_get_submissions_file(X_test_indices, y_test_pred, 'submissions_enet_regression_feature_engineered')"
   ]
  },
  {
   "cell_type": "code",
   "execution_count": null,
   "metadata": {},
   "outputs": [],
   "source": [
    "models_rmse"
   ]
  }
 ],
 "metadata": {
  "kernelspec": {
   "display_name": "Python 3",
   "language": "python",
   "name": "python3"
  },
  "language_info": {
   "codemirror_mode": {
    "name": "ipython",
    "version": 3
   },
   "file_extension": ".py",
   "mimetype": "text/x-python",
   "name": "python",
   "nbconvert_exporter": "python",
   "pygments_lexer": "ipython3",
   "version": "3.7.4"
  },
  "pycharm": {
   "stem_cell": {
    "cell_type": "raw",
    "metadata": {
     "collapsed": false
    },
    "source": []
   }
  }
 },
 "nbformat": 4,
 "nbformat_minor": 2
}
