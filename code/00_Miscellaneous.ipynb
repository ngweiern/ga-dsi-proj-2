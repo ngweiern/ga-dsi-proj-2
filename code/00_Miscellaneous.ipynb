{
 "cells": [
  {
   "cell_type": "markdown",
   "source": [],
   "metadata": {
    "collapsed": false,
    "pycharm": {
     "name": "#%% md\n"
    }
   }
  },
  {
   "cell_type": "code",
   "execution_count": 1,
   "outputs": [],
   "source": [
    "str_data_dict = \"\"\"\n",
    "<ul>\n",
    "<li><strong>SalePrice</strong> - the property's sale price in dollars. This is the target variable that you're trying to predict.</li>\n",
    "<li><strong>MSSubClass</strong>: The building class</li>\n",
    "<li><strong>MSZoning</strong>: The general zoning classification</li>\n",
    "<li><strong>LotFrontage</strong>: Linear feet of street connected to property</li>\n",
    "<li><strong>LotArea</strong>: Lot size in square feet</li>\n",
    "<li><strong>Street</strong>: Type of road access</li>\n",
    "<li><strong>Alley</strong>: Type of alley access</li>\n",
    "<li><strong>LotShape</strong>: General shape of property</li>\n",
    "<li><strong>LandContour</strong>: Flatness of the property</li>\n",
    "<li><strong>Utilities</strong>: Type of utilities available</li>\n",
    "<li><strong>LotConfig</strong>: Lot configuration</li>\n",
    "<li><strong>LandSlope</strong>: Slope of property</li>\n",
    "<li><strong>Neighborhood</strong>: Physical locations within Ames city limits</li>\n",
    "<li><strong>Condition1</strong>: Proximity to main road or railroad</li>\n",
    "<li><strong>Condition2</strong>: Proximity to main road or railroad (if a second is present)</li>\n",
    "<li><strong>BldgType</strong>: Type of dwelling</li>\n",
    "<li><strong>HouseStyle</strong>: Style of dwelling</li>\n",
    "<li><strong>OverallQual</strong>: Overall material and finish quality</li>\n",
    "<li><strong>OverallCond</strong>: Overall condition rating</li>\n",
    "<li><strong>YearBuilt</strong>: Original construction date</li>\n",
    "<li><strong>YearRemodAdd</strong>: Remodel date</li>\n",
    "<li><strong>RoofStyle</strong>: Type of roof</li>\n",
    "<li><strong>RoofMatl</strong>: Roof material</li>\n",
    "<li><strong>Exterior1st</strong>: Exterior covering on house</li>\n",
    "<li><strong>Exterior2nd</strong>: Exterior covering on house (if more than one material)</li>\n",
    "<li><strong>MasVnrType</strong>: Masonry veneer type</li>\n",
    "<li><strong>MasVnrArea</strong>: Masonry veneer area in square feet</li>\n",
    "<li><strong>ExterQual</strong>: Exterior material quality</li>\n",
    "<li><strong>ExterCond</strong>: Present condition of the material on the exterior</li>\n",
    "<li><strong>Foundation</strong>: Type of foundation</li>\n",
    "<li><strong>BsmtQual</strong>: Height of the basement</li>\n",
    "<li><strong>BsmtCond</strong>: General condition of the basement</li>\n",
    "<li><strong>BsmtExposure</strong>: Walkout or garden level basement walls</li>\n",
    "<li><strong>BsmtFinType1</strong>: Quality of basement finished area</li>\n",
    "<li><strong>BsmtFinSF1</strong>: Type 1 finished square feet</li>\n",
    "<li><strong>BsmtFinType2</strong>: Quality of second finished area (if present)</li>\n",
    "<li><strong>BsmtFinSF2</strong>: Type 2 finished square feet</li>\n",
    "<li><strong>BsmtUnfSF</strong>: Unfinished square feet of basement area</li>\n",
    "<li><strong>TotalBsmtSF</strong>: Total square feet of basement area</li>\n",
    "<li><strong>Heating</strong>: Type of heating</li>\n",
    "<li><strong>HeatingQC</strong>: Heating quality and condition</li>\n",
    "<li><strong>CentralAir</strong>: Central air conditioning</li>\n",
    "<li><strong>Electrical</strong>: Electrical system</li>\n",
    "<li><strong>1stFlrSF</strong>: First Floor square feet</li>\n",
    "<li><strong>2ndFlrSF</strong>: Second floor square feet</li>\n",
    "<li><strong>LowQualFinSF</strong>: Low quality finished square feet (all floors)</li>\n",
    "<li><strong>GrLivArea</strong>: Above grade (ground) living area square feet</li>\n",
    "<li><strong>BsmtFullBath</strong>: Basement full bathrooms</li>\n",
    "<li><strong>BsmtHalfBath</strong>: Basement half bathrooms</li>\n",
    "<li><strong>FullBath</strong>: Full bathrooms above grade</li>\n",
    "<li><strong>HalfBath</strong>: Half baths above grade</li>\n",
    "<li><strong>Bedroom</strong>: Number of bedrooms above basement level</li>\n",
    "<li><strong>Kitchen</strong>: Number of kitchens</li>\n",
    "<li><strong>KitchenQual</strong>: Kitchen quality</li>\n",
    "<li><strong>TotRmsAbvGrd</strong>: Total rooms above grade (does not include bathrooms)</li>\n",
    "<li><strong>Functional</strong>: Home functionality rating</li>\n",
    "<li><strong>Fireplaces</strong>: Number of fireplaces</li>\n",
    "<li><strong>FireplaceQu</strong>: Fireplace quality</li>\n",
    "<li><strong>GarageType</strong>: Garage location</li>\n",
    "<li><strong>GarageYrBlt</strong>: Year garage was built</li>\n",
    "<li><strong>GarageFinish</strong>: Interior finish of the garage</li>\n",
    "<li><strong>GarageCars</strong>: Size of garage in car capacity</li>\n",
    "<li><strong>GarageArea</strong>: Size of garage in square feet</li>\n",
    "<li><strong>GarageQual</strong>: Garage quality</li>\n",
    "<li><strong>GarageCond</strong>: Garage condition</li>\n",
    "<li><strong>PavedDrive</strong>: Paved driveway</li>\n",
    "<li><strong>WoodDeckSF</strong>: Wood deck area in square feet</li>\n",
    "<li><strong>OpenPorchSF</strong>: Open porch area in square feet</li>\n",
    "<li><strong>EnclosedPorch</strong>: Enclosed porch area in square feet</li>\n",
    "<li><strong>3SsnPorch</strong>: Three season porch area in square feet</li>\n",
    "<li><strong>ScreenPorch</strong>: Screen porch area in square feet</li>\n",
    "<li><strong>PoolArea</strong>: Pool area in square feet</li>\n",
    "<li><strong>PoolQC</strong>: Pool quality</li>\n",
    "<li><strong>Fence</strong>: Fence quality</li>\n",
    "<li><strong>MiscFeature</strong>: Miscellaneous feature not covered in other categories</li>\n",
    "<li><strong>MiscVal</strong>: $Value of miscellaneous feature</li>\n",
    "<li><strong>MoSold</strong>: Month Sold</li>\n",
    "<li><strong>YrSold</strong>: Year Sold</li>\n",
    "<li><strong>SaleType</strong>: Type of sale</li>\n",
    "<li><strong>SaleCondition</strong>: Condition of sale</li>\n",
    "</ul>\n",
    "\"\"\""
   ],
   "metadata": {
    "collapsed": false,
    "pycharm": {
     "name": "#%%\n",
     "is_executing": false
    }
   }
  },
  {
   "cell_type": "code",
   "execution_count": 2,
   "outputs": [
    {
     "name": "stdout",
     "text": [
      "|**SalePrice**|the property's sale price in dollars. This is the target variable that you're trying to predict.|\n",
      "|**MSSubClass**|The building class|\n",
      "|**MSZoning**|The general zoning classification|\n",
      "|**LotFrontage**|Linear feet of street connected to property|\n",
      "|**LotArea**|Lot size in square feet|\n",
      "|**Street**|Type of road access|\n",
      "|**Alley**|Type of alley access|\n",
      "|**LotShape**|General shape of property|\n",
      "|**LandContour**|Flatness of the property|\n",
      "|**Utilities**|Type of utilities available|\n",
      "|**LotConfig**|Lot configuration|\n",
      "|**LandSlope**|Slope of property|\n",
      "|**Neighborhood**|Physical locations within Ames city limits|\n",
      "|**Condition1**|Proximity to main road or railroad|\n",
      "|**Condition2**|Proximity to main road or railroad (if a second is present)|\n",
      "|**BldgType**|Type of dwelling|\n",
      "|**HouseStyle**|Style of dwelling|\n",
      "|**OverallQual**|Overall material and finish quality|\n",
      "|**OverallCond**|Overall condition rating|\n",
      "|**YearBuilt**|Original construction date|\n",
      "|**YearRemodAdd**|Remodel date|\n",
      "|**RoofStyle**|Type of roof|\n",
      "|**RoofMatl**|Roof material|\n",
      "|**Exterior1st**|Exterior covering on house|\n",
      "|**Exterior2nd**|Exterior covering on house (if more than one material)|\n",
      "|**MasVnrType**|Masonry veneer type|\n",
      "|**MasVnrArea**|Masonry veneer area in square feet|\n",
      "|**ExterQual**|Exterior material quality|\n",
      "|**ExterCond**|Present condition of the material on the exterior|\n",
      "|**Foundation**|Type of foundation|\n",
      "|**BsmtQual**|Height of the basement|\n",
      "|**BsmtCond**|General condition of the basement|\n",
      "|**BsmtExposure**|Walkout or garden level basement walls|\n",
      "|**BsmtFinType1**|Quality of basement finished area|\n",
      "|**BsmtFinSF1**|Type 1 finished square feet|\n",
      "|**BsmtFinType2**|Quality of second finished area (if present)|\n",
      "|**BsmtFinSF2**|Type 2 finished square feet|\n",
      "|**BsmtUnfSF**|Unfinished square feet of basement area|\n",
      "|**TotalBsmtSF**|Total square feet of basement area|\n",
      "|**Heating**|Type of heating|\n",
      "|**HeatingQC**|Heating quality and condition|\n",
      "|**CentralAir**|Central air conditioning|\n",
      "|**Electrical**|Electrical system|\n",
      "|**1stFlrSF**|First Floor square feet|\n",
      "|**2ndFlrSF**|Second floor square feet|\n",
      "|**LowQualFinSF**|Low quality finished square feet (all floors)|\n",
      "|**GrLivArea**|Above grade (ground) living area square feet|\n",
      "|**BsmtFullBath**|Basement full bathrooms|\n",
      "|**BsmtHalfBath**|Basement half bathrooms|\n",
      "|**FullBath**|Full bathrooms above grade|\n",
      "|**HalfBath**|Half baths above grade|\n",
      "|**Bedroom**|Number of bedrooms above basement level|\n",
      "|**Kitchen**|Number of kitchens|\n",
      "|**KitchenQual**|Kitchen quality|\n",
      "|**TotRmsAbvGrd**|Total rooms above grade (does not include bathrooms)|\n",
      "|**Functional**|Home functionality rating|\n",
      "|**Fireplaces**|Number of fireplaces|\n",
      "|**FireplaceQu**|Fireplace quality|\n",
      "|**GarageType**|Garage location|\n",
      "|**GarageYrBlt**|Year garage was built|\n",
      "|**GarageFinish**|Interior finish of the garage|\n",
      "|**GarageCars**|Size of garage in car capacity|\n",
      "|**GarageArea**|Size of garage in square feet|\n",
      "|**GarageQual**|Garage quality|\n",
      "|**GarageCond**|Garage condition|\n",
      "|**PavedDrive**|Paved driveway|\n",
      "|**WoodDeckSF**|Wood deck area in square feet|\n",
      "|**OpenPorchSF**|Open porch area in square feet|\n",
      "|**EnclosedPorch**|Enclosed porch area in square feet|\n",
      "|**3SsnPorch**|Three season porch area in square feet|\n",
      "|**ScreenPorch**|Screen porch area in square feet|\n",
      "|**PoolArea**|Pool area in square feet|\n",
      "|**PoolQC**|Pool quality|\n",
      "|**Fence**|Fence quality|\n",
      "|**MiscFeature**|Miscellaneous feature not covered in other categories|\n",
      "|**MiscVal**|$Value of miscellaneous feature|\n",
      "|**MoSold**|Month Sold|\n",
      "|**YrSold**|Year Sold|\n",
      "|**SaleType**|Type of sale|\n",
      "|**SaleCondition**|Condition of sale|\n"
     ],
     "output_type": "stream"
    }
   ],
   "source": [
    "import re\n",
    "\n",
    "rows = []\n",
    "for row in str_data_dict.split('\\n')[2:-2]:\n",
    "    row_without_tags = row.replace('<li>', '').replace('<strong>', '').replace('</li>', '').replace('</strong>', '')\n",
    "    # print(row_without_tags.split('-'))\n",
    "    feature_description_list = re.split('-|:', row_without_tags)\n",
    "    feature_description_list = [element.strip() for element in feature_description_list]\n",
    "    feature_description_list[0] = '**' + feature_description_list[0] + '**'\n",
    "    print('|' + '|'.join(feature_description_list) + '|')"
   ],
   "metadata": {
    "collapsed": false,
    "pycharm": {
     "name": "#%%\n",
     "is_executing": false
    }
   }
  },
  {
   "cell_type": "code",
   "execution_count": null,
   "outputs": [],
   "source": [
    "\n"
   ],
   "metadata": {
    "collapsed": false,
    "pycharm": {
     "name": "#%%\n"
    }
   }
  }
 ],
 "metadata": {
  "kernelspec": {
   "name": "pycharm-f3445131",
   "language": "python",
   "display_name": "PyCharm (untitled)"
  },
  "language_info": {
   "codemirror_mode": {
    "name": "ipython",
    "version": 2
   },
   "file_extension": ".py",
   "mimetype": "text/x-python",
   "name": "python",
   "nbconvert_exporter": "python",
   "pygments_lexer": "ipython2",
   "version": "2.7.6"
  },
  "pycharm": {
   "stem_cell": {
    "cell_type": "raw",
    "source": [],
    "metadata": {
     "collapsed": false
    }
   }
  }
 },
 "nbformat": 4,
 "nbformat_minor": 0
}